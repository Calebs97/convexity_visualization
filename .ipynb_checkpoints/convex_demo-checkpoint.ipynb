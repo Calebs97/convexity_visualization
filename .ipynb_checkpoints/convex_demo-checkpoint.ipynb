{
 "cells": [
  {
   "cell_type": "code",
   "execution_count": 1,
   "metadata": {},
   "outputs": [],
   "source": [
    "# HIDDEN\n",
    "import nbinteract as nbi\n",
    "import numpy as np\n",
    "import ipywidgets as widgets\n",
    "import bqplot as bq\n",
    "import sys"
   ]
  },
  {
   "cell_type": "code",
   "execution_count": 2,
   "metadata": {},
   "outputs": [],
   "source": [
    "# HIDDEN\n",
    "# convex\n",
    "func1 = lambda x: 2 * x + 1\n",
    "\n",
    "func2 = lambda x: x**2 + 2*x + 3\n",
    "\n",
    "#non-convex\n",
    "func3 = lambda x: x**3 + x**2 + 1\n"
   ]
  },
  {
   "cell_type": "markdown",
   "metadata": {},
   "source": [
    "## $f(\\lambda x + (1−\\lambda)y)\\leq \\lambda f(x) + (1−\\lambda)f(y)$"
   ]
  },
  {
   "cell_type": "code",
   "execution_count": 3,
   "metadata": {},
   "outputs": [],
   "source": [
    "# HIDDEN\n",
    "x1_slider = widgets.FloatSlider(value=5, min=-10, max=10, step=0.01, description='x1')\n",
    "x2_slider = widgets.FloatSlider(value=-5, min=-10, max=10, step=0.01, description='x2')\n",
    "lambda_slider = widgets.FloatSlider(value=0.5, min=0, max=1, step=0.01, description='lambda')\n",
    "dropdown = widgets.Dropdown(\n",
    "    options={'2x + 1':func1,'x² + 2x + 3': func2, 'x³ + x² + 1': func3},\n",
    "    value=func2,\n",
    "    description='Function:',\n",
    ")"
   ]
  },
  {
   "cell_type": "code",
   "execution_count": 4,
   "metadata": {
    "scrolled": false
   },
   "outputs": [
    {
     "data": {
      "application/vnd.jupyter.widget-view+json": {
       "model_id": "98ad1db049704ecc9efa2f8b2392834f",
       "version_major": 2,
       "version_minor": 0
      },
      "text/plain": [
       "A Jupyter Widget"
      ]
     },
     "metadata": {},
     "output_type": "display_data"
    },
    {
     "data": {
      "application/vnd.jupyter.widget-view+json": {
       "model_id": "bc6b41eda3cb4a47ba3ce5863ebc1036",
       "version_major": 2,
       "version_minor": 0
      },
      "text/plain": [
       "A Jupyter Widget"
      ]
     },
     "metadata": {},
     "output_type": "display_data"
    },
    {
     "data": {
      "application/vnd.jupyter.widget-view+json": {
       "model_id": "cedb0e74eb0f430086d2d53b5dc5d515",
       "version_major": 2,
       "version_minor": 0
      },
      "text/plain": [
       "A Jupyter Widget"
      ]
     },
     "metadata": {},
     "output_type": "display_data"
    },
    {
     "data": {
      "application/vnd.jupyter.widget-view+json": {
       "model_id": "e052a1677db24b16afe48876efc6fc3b",
       "version_major": 2,
       "version_minor": 0
      },
      "text/plain": [
       "A Jupyter Widget"
      ]
     },
     "metadata": {},
     "output_type": "display_data"
    },
    {
     "data": {
      "application/vnd.jupyter.widget-view+json": {
       "model_id": "a8f2da2e1c744f19a10c12b5c9b778ba",
       "version_major": 2,
       "version_minor": 0
      },
      "text/plain": [
       "A Jupyter Widget"
      ]
     },
     "metadata": {},
     "output_type": "display_data"
    }
   ],
   "source": [
    "# HIDDEN\n",
    "x_data = np.arange(-10,10,0.01)\n",
    "y_data = np.apply_along_axis(dropdown.value, 0, np.arange(-10,10,0.01))\n",
    "sc_x = bq.scales.LinearScale()\n",
    "sc_y = bq.scales.LinearScale(min=-300, max=300)\n",
    "ax_x = bq.axes.Axis(scale=sc_x)\n",
    "ax_y = bq.axes.Axis(scale=sc_y, tick_format='0.2f', orientation='vertical', label_offset=\"3em\")\n",
    "func_mark = bq.marks.Lines(x=x_data, \n",
    "                          y=y_data, \n",
    "                          stroke_width=3,\n",
    "                          colors=['black'],\n",
    "                          scales={'x': sc_x, 'y': sc_y})\n",
    "line_mark = bq.marks.Lines(x=[x1_slider.value,x2_slider.value],\n",
    "                           y=[dropdown.value(x1_slider.value), dropdown.value(x2_slider.value)],\n",
    "                           scales={'x': sc_x, 'y': sc_y})\n",
    "dotted_line_1 = bq.marks.Lines(x=[x1_slider.value,x1_slider.value],\n",
    "                             y=[-500,dropdown.value(x1_slider.value)],\n",
    "                             line_style='dotted',\n",
    "                             colors=['#006400'],\n",
    "                             scales={'x': sc_x, 'y': sc_y})\n",
    "dotted_line_2 = bq.marks.Lines(x=[x2_slider.value,x2_slider.value],\n",
    "                             y=[-500,dropdown.value(x2_slider.value)],\n",
    "                             line_style='dotted',\n",
    "                             colors=['#006400'],\n",
    "                             scales={'x': sc_x, 'y': sc_y})\n",
    "point_mark = bq.marks.Scatter(x=[x1_slider.value,x2_slider.value],\n",
    "                           y=[dropdown.value(x1_slider.value), dropdown.value(x2_slider.value)],\n",
    "                           colors=['#cc0000'],\n",
    "                           default_size=100,\n",
    "                           scales={'x': sc_x, 'y': sc_y})\n",
    "lambda_x = lambda_slider.value * x1_slider.value + (1-lambda_slider.value) * x2_slider.value\n",
    "lambda_mark = bq.marks.Scatter(x=[lambda_x, lambda_x],\n",
    "                           y=[dropdown.value(lambda_x), lambda_slider.value * dropdown.value(x1_slider.value) + (1-lambda_slider.value) * dropdown.value(x2_slider.value)],\n",
    "                           colors=['#e50000', '#1c8d1e'],\n",
    "                           default_size=50,\n",
    "                           scales={'x': sc_x, 'y': sc_y})\n",
    "epigraph_mark = bq.marks.Lines(x=[lambda_x, lambda_x],\n",
    "                           y=[dropdown.value(lambda_x), lambda_slider.value * dropdown.value(x1_slider.value) + (1-lambda_slider.value) * dropdown.value(x2_slider.value)],\n",
    "                           colors=['#1c8d1e'],\n",
    "                           scales={'x': sc_x, 'y': sc_y})\n",
    "def update_plot(change):\n",
    "    lambda_x = lambda_slider.value * x1_slider.value + (1-lambda_slider.value) * x2_slider.value\n",
    "    func = dropdown.value\n",
    "    if func(lambda_x) > lambda_slider.value * func(x1_slider.value) + (1-lambda_slider.value) * func(x2_slider.value):\n",
    "        epigraph_mark.colors = ['#e50000']\n",
    "    else:\n",
    "        epigraph_mark.colors = ['#1c8d1e']\n",
    "    func_mark.y = np.apply_along_axis(func, 0, np.arange(-10,10,0.01))\n",
    "    line_mark.x = [x1_slider.value, x2_slider.value]\n",
    "    line_mark.y = [func(x1_slider.value), func(x2_slider.value)]\n",
    "    point_mark.x = [x1_slider.value, x2_slider.value]\n",
    "    point_mark.y = [func(x1_slider.value), func(x2_slider.value)]\n",
    "    dotted_line_1.x = [x1_slider.value, x1_slider.value]\n",
    "    dotted_line_1.y = [-500, func(x1_slider.value)]\n",
    "    dotted_line_2.x = [x2_slider.value, x2_slider.value]\n",
    "    dotted_line_2.y = [-500, func(x2_slider.value)]\n",
    "    \n",
    "    lambda_mark.x =[lambda_x, lambda_x]\n",
    "    lambda_mark.y = [func(lambda_x), lambda_slider.value * func(x1_slider.value) + (1-lambda_slider.value) * func(x2_slider.value)]\n",
    "    epigraph_mark.x =[lambda_x, lambda_x]\n",
    "    epigraph_mark.y = [func(lambda_x), lambda_slider.value * func(x1_slider.value) + (1-lambda_slider.value) * func(x2_slider.value)]\n",
    "    \n",
    "#     line_mark.x = [line_mark.x[0], change['owner'].value]\n",
    "#     line_mark.y = [func(line_mark.x[0]), func(line_mark.x[1])]\n",
    "#     point_mark.x = [line_mark.x[0], change['owner'].value]\n",
    "#     point_mark.y = [func(line_mark.x[0]), func(line_mark.x[1])]\n",
    "\n",
    "display(x1_slider, x2_slider, lambda_slider, dropdown)\n",
    "display(bq.Figure(marks=[func_mark, line_mark, point_mark, lambda_mark, epigraph_mark,\n",
    "                         dotted_line_1, dotted_line_2], axes=[ax_x, ax_y], title=\"Plotting Convexity\", \n",
    "                  animation_duration=100))\n"
   ]
  },
  {
   "cell_type": "code",
   "execution_count": 5,
   "metadata": {},
   "outputs": [],
   "source": [
    "# HIDDEN\n",
    "x1_slider.observe(update_plot)\n",
    "x2_slider.observe(update_plot)\n",
    "lambda_slider.observe(update_plot)\n",
    "dropdown.observe(update_plot)"
   ]
  },
  {
   "cell_type": "code",
   "execution_count": 6,
   "metadata": {},
   "outputs": [],
   "source": [
    "# HIDDEN\n",
    "# convex\n",
    "func = lambda x: x**2 + 2*x + 3\n",
    "\n",
    "#non-convex\n",
    "func= lambda x: x**3 + x**2 + 1"
   ]
  },
  {
   "cell_type": "code",
   "execution_count": 3,
   "metadata": {},
   "outputs": [],
   "source": [
    "# HIDDEN\n",
    "def x_points(x_1, x_2):\n",
    "    return x_1, x_2\n",
    "def y_points(xs):\n",
    "    return np.apply_along_axis(func, 0, xs)"
   ]
  }
 ],
 "metadata": {
  "kernelspec": {
   "display_name": "Python 3",
   "language": "python",
   "name": "python3"
  },
  "language_info": {
   "codemirror_mode": {
    "name": "ipython",
    "version": 3
   },
   "file_extension": ".py",
   "mimetype": "text/x-python",
   "name": "python",
   "nbconvert_exporter": "python",
   "pygments_lexer": "ipython3",
   "version": "3.6.2"
  }
 },
 "nbformat": 4,
 "nbformat_minor": 2
}
